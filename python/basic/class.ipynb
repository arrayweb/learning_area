{
 "cells": [
  {
   "cell_type": "markdown",
   "id": "5a3e5dde-7941-4dfd-bbcd-ff7e8410aff2",
   "metadata": {},
   "source": [
    "# "
   ]
  },
  {
   "cell_type": "code",
   "execution_count": 1,
   "id": "fdd6cc8e-eeed-46f7-8542-52550c93d067",
   "metadata": {},
   "outputs": [],
   "source": [
    "a = 1"
   ]
  },
  {
   "cell_type": "code",
   "execution_count": 2,
   "id": "2a07598c-bbb4-47b1-85df-f1ba5cafb740",
   "metadata": {},
   "outputs": [
    {
     "data": {
      "text/plain": [
       "int"
      ]
     },
     "execution_count": 2,
     "metadata": {},
     "output_type": "execute_result"
    }
   ],
   "source": [
    "type(a)"
   ]
  },
  {
   "cell_type": "code",
   "execution_count": 3,
   "id": "80a0c85a-c796-46b9-a8aa-72e5b32a751d",
   "metadata": {},
   "outputs": [
    {
     "name": "stdout",
     "output_type": "stream",
     "text": [
      "<class 'int'>\n"
     ]
    }
   ],
   "source": [
    "print(type(a))"
   ]
  },
  {
   "cell_type": "code",
   "execution_count": 4,
   "id": "b9cd4dfe-3e1c-476b-8da7-464e3ac8defa",
   "metadata": {},
   "outputs": [],
   "source": [
    "class test :\n",
    "    pass"
   ]
  },
  {
   "cell_type": "code",
   "execution_count": 5,
   "id": "5290bae7-365a-42d4-bf11-51e31e85161b",
   "metadata": {},
   "outputs": [],
   "source": [
    "b = test()"
   ]
  },
  {
   "cell_type": "code",
   "execution_count": 6,
   "id": "f4ce2d0c-6f19-4bbe-b3ad-137bd51575fe",
   "metadata": {},
   "outputs": [
    {
     "name": "stdout",
     "output_type": "stream",
     "text": [
      "<class '__main__.test'>\n"
     ]
    }
   ],
   "source": [
    "print(type(b))"
   ]
  },
  {
   "cell_type": "code",
   "execution_count": 14,
   "id": "c31787d4-0223-4f4a-91ea-206e2a8f416e",
   "metadata": {},
   "outputs": [],
   "source": [
    "class pw:\n",
    "    def welcome_msg(self):\n",
    "        print(\"welcome to pw\")"
   ]
  },
  {
   "cell_type": "code",
   "execution_count": 15,
   "id": "8d14171c-6c12-45bf-a646-7c34f786b747",
   "metadata": {},
   "outputs": [],
   "source": [
    "rohan = pw()"
   ]
  },
  {
   "cell_type": "code",
   "execution_count": 16,
   "id": "afb0f308-7a66-4c6d-ac4c-721cd3813084",
   "metadata": {},
   "outputs": [
    {
     "name": "stdout",
     "output_type": "stream",
     "text": [
      "welcome to pw\n"
     ]
    }
   ],
   "source": [
    "rohan.welcome_msg()"
   ]
  },
  {
   "cell_type": "code",
   "execution_count": 17,
   "id": "1e94cffc-8176-4dc6-a9f4-eed4eddef526",
   "metadata": {},
   "outputs": [],
   "source": [
    "gaurav = pw()"
   ]
  },
  {
   "cell_type": "code",
   "execution_count": 18,
   "id": "0e95d656-aa42-4a75-865b-a669b2c87310",
   "metadata": {},
   "outputs": [
    {
     "name": "stdout",
     "output_type": "stream",
     "text": [
      "welcome to pw\n"
     ]
    }
   ],
   "source": [
    "gaurav.welcome_msg()"
   ]
  },
  {
   "cell_type": "raw",
   "id": "9c5d4bf4-f066-40c7-82dd-9e138752d693",
   "metadata": {},
   "source": []
  },
  {
   "cell_type": "code",
   "execution_count": null,
   "id": "7f2c70b0-065e-4d9f-9c93-9a123034beb1",
   "metadata": {},
   "outputs": [],
   "source": []
  }
 ],
 "metadata": {
  "kernelspec": {
   "display_name": "Python 3 (ipykernel)",
   "language": "python",
   "name": "python3"
  },
  "language_info": {
   "codemirror_mode": {
    "name": "ipython",
    "version": 3
   },
   "file_extension": ".py",
   "mimetype": "text/x-python",
   "name": "python",
   "nbconvert_exporter": "python",
   "pygments_lexer": "ipython3",
   "version": "3.11.5"
  }
 },
 "nbformat": 4,
 "nbformat_minor": 5
}
