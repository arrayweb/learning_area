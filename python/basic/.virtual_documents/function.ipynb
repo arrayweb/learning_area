def test():
    pass


def test1():
    print("This is my very first function")
    return "hi"


test1()



test1() + " anuj"


a = 1,2,3


a


a,b,c = 1,2,3





cv


c



