


a = 1


type(a)


print(type(a))


class test :
    pass


b = test()


print(type(b))


class pw:
    def welcome_msg(self):
        print("welcome to pw")


rohan = pw()


rohan.welcome_msg()


gaurav = pw()


gaurav.welcome_msg()






