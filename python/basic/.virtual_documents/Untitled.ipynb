a = "anuj"


n = ["INDIA", 6 , 9.988 , 0.9 , 9j+ 9, "yes", True, 0]


n


a + n


a + " " + n[0]


a.capitalize()


a.upper()


a.casefold()


a.center()


a.center(8,fillchar=" ", /)


floatvare = 5e5





'{0:.10f}'.format(floatvare) 


str1 = "Mayank's Code"
str2 = 'Let us "Code" '
str3 = "Let's \"Code\" " 


str1


str2


str3



